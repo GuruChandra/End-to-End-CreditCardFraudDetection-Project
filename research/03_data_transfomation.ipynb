{
 "cells": [
  {
   "cell_type": "code",
   "execution_count": 1,
   "metadata": {},
   "outputs": [],
   "source": [
    "import os"
   ]
  },
  {
   "cell_type": "code",
   "execution_count": 2,
   "metadata": {},
   "outputs": [],
   "source": [
    "os.chdir('../')"
   ]
  },
  {
   "cell_type": "code",
   "execution_count": 3,
   "metadata": {},
   "outputs": [
    {
     "data": {
      "text/plain": [
       "'c:\\\\Chandu\\\\WorkSpace\\\\Learnings\\\\Repos\\\\End-to-End-CreditCardFraudDetection-Project'"
      ]
     },
     "execution_count": 3,
     "metadata": {},
     "output_type": "execute_result"
    }
   ],
   "source": [
    "%pwd"
   ]
  },
  {
   "cell_type": "code",
   "execution_count": 7,
   "metadata": {},
   "outputs": [],
   "source": [
    "from dataclasses import dataclass\n",
    "from pathlib import Path\n",
    "@dataclass(frozen=True)\n",
    "class DataTransformationConfig:\n",
    "    root_dir: Path\n",
    "    data_path: Path\n",
    "\n"
   ]
  },
  {
   "cell_type": "code",
   "execution_count": 15,
   "metadata": {},
   "outputs": [],
   "source": [
    "from creditcard_fraud_detection.constants import *\n",
    "from creditcard_fraud_detection.utils.common import read_yaml, create_directories"
   ]
  },
  {
   "cell_type": "code",
   "execution_count": 35,
   "metadata": {},
   "outputs": [],
   "source": [
    "class ConfigurationManager:\n",
    "    def __init__(self,\n",
    "                 config_filepath = CONFIG_FILE_PATH,\n",
    "                 params_filepath = PARAMS_FILE_PATH):\n",
    "        \n",
    "        #self.config = read_yaml(config_filepath)\n",
    "        #self.params = read_yaml(params_filepath)\n",
    "        self.config = read_yaml(config_filepath)\n",
    "        self.params = read_yaml(params_filepath)\n",
    "        \n",
    "        #create_directories([self.config.artifacts_root])\n",
    "        create_directories([self.config.artifacts_root])\n",
    "        \n",
    "    \n",
    "    def get_data_transformation(self)->DataTransformationConfig:\n",
    "        config = self.config.data_transformation\n",
    "\n",
    "        create_directories([config.root_dir])\n",
    "\n",
    "        data_transformation_config = DataTransformationConfig(\n",
    "            root_dir= config.root_dir,\n",
    "            data_path=config.data_path\n",
    "        )\n",
    "\n",
    "        return data_transformation_config"
   ]
  },
  {
   "cell_type": "code",
   "execution_count": 13,
   "metadata": {},
   "outputs": [],
   "source": [
    "import os\n",
    "import numpy as np\n",
    "import pandas as pd\n",
    "import matplotlib.pyplot as plt\n",
    "from creditcard_fraud_detection.logging import logger\n",
    "from sklearn.preprocessing import RobustScaler\n",
    "from sklearn.model_selection import train_test_split"
   ]
  },
  {
   "cell_type": "code",
   "execution_count": 47,
   "metadata": {},
   "outputs": [],
   "source": [
    "class DataTransformation:\n",
    "    def __init__(self,config:DataTransformationConfig):\n",
    "        self.config = config\n",
    "    \n",
    "    def create_features(self):\n",
    "        df = pd.read_csv(os.path.join(self.config.data_path, 'creditcard.csv'))\n",
    "        ## rescaling Amount and time\n",
    "        df['Amount'] = RobustScaler().fit_transform(df['Amount'].to_numpy().reshape(-1,1))\n",
    "        time = df['Time']\n",
    "        df['Time'] = (time-time.min())/(time.max()-time.min())\n",
    "        df = df.sample(frac=1, random_state=1)\n",
    "\n",
    "        df_np = df.to_numpy()\n",
    "        y=df_np[:,-1]\n",
    "        X = df_np[:,:-1]\n",
    "        X_train, X_temp, y_train, y_temp = train_test_split(X,y, test_size=0.3, random_state=42)\n",
    "        X_test,X_val, y_test, y_val = train_test_split(X_temp, y_temp, test_size=0.5, random_state=42)\n",
    "        logger.info(f\"Train Size: {len(y_train)}, Test Size: {len(y_test)}, Val Size: {len(y_val)}\")\n",
    "\n",
    "        train_df = pd.DataFrame(X_train)\n",
    "        train_df['Class'] = y_train\n",
    "        \n",
    "        test_df = pd.DataFrame(X_test)\n",
    "        test_df['Class'] = y_test\n",
    "\n",
    "        val_df = pd.DataFrame(X_val)\n",
    "        val_df['Class'] = y_val\n",
    "\n",
    "        fraud = df.query('Class == 1')\n",
    "        not_fraud = df.query('Class == 0')\n",
    "\n",
    "        balanced_df = pd.concat([fraud, not_fraud.sample(len(fraud), random_state=100)])\n",
    "        logger.info(f\"Created a balanced df of size: {len(balanced_df)}\")\n",
    "        return balanced_df, test_df, val_df\n",
    "    \n",
    "    def convert(self):\n",
    "        train, test, val = self.create_features()\n",
    "        train.to_csv(os.path.join(self.config.root_dir,'train.csv'))\n",
    "        test.to_csv(os.path.join(self.config.root_dir,'test.csv'))\n",
    "        val.to_csv(os.path.join(self.config.root_dir,'val.csv'))\n",
    "        "
   ]
  },
  {
   "cell_type": "code",
   "execution_count": 48,
   "metadata": {},
   "outputs": [
    {
     "name": "stdout",
     "output_type": "stream",
     "text": [
      "[2025-03-27 06:59:34,815: INFO: common: yaml file: config\\config.yaml loaded succesfully]\n",
      "[2025-03-27 06:59:34,820: INFO: common: yaml file: params.yaml loaded succesfully]\n",
      "[2025-03-27 06:59:34,824: INFO: common: created directory at : artifacts]\n",
      "[2025-03-27 06:59:34,828: INFO: common: created directory at : artifacts/data_transformation]\n",
      "[2025-03-27 06:59:41,308: INFO: 238895040: Train Size: 199364, Test Size: 42721, Val Size: 42722]\n",
      "[2025-03-27 06:59:41,457: INFO: 238895040: Created a balanced df of size: 984]\n"
     ]
    }
   ],
   "source": [
    "try:\n",
    "    config = ConfigurationManager()\n",
    "    data_transformation_config = config.get_data_transformation()\n",
    "    data_transformation = DataTransformation(config=data_transformation_config)\n",
    "    data_transformation.convert()\n",
    "except Exception as e:\n",
    "    raise e"
   ]
  },
  {
   "cell_type": "code",
   "execution_count": null,
   "metadata": {},
   "outputs": [],
   "source": []
  }
 ],
 "metadata": {
  "kernelspec": {
   "display_name": "Python 3",
   "language": "python",
   "name": "python3"
  },
  "language_info": {
   "codemirror_mode": {
    "name": "ipython",
    "version": 3
   },
   "file_extension": ".py",
   "mimetype": "text/x-python",
   "name": "python",
   "nbconvert_exporter": "python",
   "pygments_lexer": "ipython3",
   "version": "3.9.21"
  }
 },
 "nbformat": 4,
 "nbformat_minor": 2
}
