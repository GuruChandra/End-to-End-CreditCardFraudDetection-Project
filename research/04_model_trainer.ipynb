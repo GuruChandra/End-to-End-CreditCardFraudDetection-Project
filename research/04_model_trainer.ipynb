{
 "cells": [
  {
   "cell_type": "code",
   "execution_count": 1,
   "metadata": {},
   "outputs": [],
   "source": [
    "import os"
   ]
  },
  {
   "cell_type": "code",
   "execution_count": 2,
   "metadata": {},
   "outputs": [],
   "source": [
    "os.chdir('../')"
   ]
  },
  {
   "cell_type": "code",
   "execution_count": 3,
   "metadata": {},
   "outputs": [
    {
     "data": {
      "text/plain": [
       "'c:\\\\Chandu\\\\WorkSpace\\\\Learnings\\\\Repos\\\\End-to-End-CreditCardFraudDetection-Project'"
      ]
     },
     "execution_count": 3,
     "metadata": {},
     "output_type": "execute_result"
    }
   ],
   "source": [
    "%pwd\n"
   ]
  },
  {
   "cell_type": "code",
   "execution_count": 12,
   "metadata": {},
   "outputs": [],
   "source": [
    "from dataclasses import dataclass\n",
    "from pathlib import Path\n",
    "\n",
    "@dataclass(frozen=True)\n",
    "class Model_Config:\n",
    "    root_dir: Path \n",
    "    data_path: Path \n",
    "    n_estimators: int\n",
    "    max_depth: int\n",
    "    "
   ]
  },
  {
   "cell_type": "code",
   "execution_count": 7,
   "metadata": {},
   "outputs": [],
   "source": [
    "from creditcard_fraud_detection.constants import *\n",
    "from creditcard_fraud_detection.utils.common import read_yaml, create_directories"
   ]
  },
  {
   "cell_type": "code",
   "execution_count": 20,
   "metadata": {},
   "outputs": [],
   "source": [
    "class ConfigurationManager():\n",
    "    def __init__(self,\n",
    "                 config_path=CONFIG_FILE_PATH,\n",
    "                 params_path = PARAMS_FILE_PATH):\n",
    "        self.config = read_yaml(config_path)\n",
    "        self.params = read_yaml(params_path)\n",
    "\n",
    "        create_directories([self.config.artifacts_root])\n",
    "\n",
    "    def get_model_config(self)-> Model_Config:\n",
    "        config = self.config.model_trainer\n",
    "        params = self.params.TrainingArguments\n",
    "\n",
    "        create_directories([config.root_dir])\n",
    "        model_config = Model_Config(\n",
    "            root_dir=config.root_dir,\n",
    "            data_path=config.data_path,\n",
    "            n_estimators=params.n_estimators,\n",
    "            max_depth=params.max_depth\n",
    "        )\n",
    "        return model_config"
   ]
  },
  {
   "cell_type": "code",
   "execution_count": 22,
   "metadata": {},
   "outputs": [],
   "source": [
    "import os\n",
    "import pandas as pd\n",
    "import numpy as np\n",
    "from creditcard_fraud_detection.logging import logger\n",
    "from sklearn.ensemble import RandomForestClassifier\n",
    "import joblib\n",
    "from sklearn.metrics import classification_report"
   ]
  },
  {
   "cell_type": "code",
   "execution_count": null,
   "metadata": {},
   "outputs": [
    {
     "ename": "SyntaxError",
     "evalue": "f-string: unmatched '[' (1815819572.py, line 14)",
     "output_type": "error",
     "traceback": [
      "\u001b[1;36m  Cell \u001b[1;32mIn[26], line 14\u001b[1;36m\u001b[0m\n\u001b[1;33m    logger.info(f\"model result on the traing data: \\n {classification_report(y_train, model.predict(X_train), target_names=[\"Not fraud\", \"Fraud\"])})\u001b[0m\n\u001b[1;37m                                                                                                                             ^\u001b[0m\n\u001b[1;31mSyntaxError\u001b[0m\u001b[1;31m:\u001b[0m f-string: unmatched '['\n"
     ]
    }
   ],
   "source": [
    "class ModelTrainer():\n",
    "    def __init__(self,config: Model_Config):\n",
    "        self.config = config\n",
    "    \n",
    "    def train(self):\n",
    "        model = RandomForestClassifier(n_estimators=self.config.n_estimators, \n",
    "                                       max_depth=self.config.max_depth)\n",
    "        train_df = pd.read_csv(os.path.join(self.config.data_path,'train.csv'))\n",
    "        train_df_np = train_df.to_numpy()\n",
    "        X_train = train_df_np[:,:-1]\n",
    "        y_train = train_df_np[:,-1]\n",
    "        model.fit(X_train, y_train)\n",
    "        joblib.dump(model,os.path.join(self.config.root_dir, 'model.pkl'))\n",
    "        logger.info(\"model result on the traing data is below:\")\n",
    "        logger.info(classification_report(y_train, model.predict(X_train), target_names=[\"Not fraud\", \"Fraud\"]))\n"
   ]
  },
  {
   "cell_type": "code",
   "execution_count": 27,
   "metadata": {},
   "outputs": [
    {
     "name": "stdout",
     "output_type": "stream",
     "text": [
      "[2025-03-27 07:55:01,504: INFO: common: yaml file: config\\config.yaml loaded succesfully]\n",
      "[2025-03-27 07:55:01,518: INFO: common: yaml file: params.yaml loaded succesfully]\n",
      "[2025-03-27 07:55:01,529: INFO: common: created directory at : artifacts]\n",
      "[2025-03-27 07:55:01,532: INFO: common: created directory at : artifacts/model_trainer]\n"
     ]
    },
    {
     "name": "stdout",
     "output_type": "stream",
     "text": [
      "[2025-03-27 07:55:02,587: INFO: 2984474853:               precision    recall  f1-score   support\n",
      "\n",
      "   Not fraud       0.92      1.00      0.96       492\n",
      "       Fraud       1.00      0.91      0.96       492\n",
      "\n",
      "    accuracy                           0.96       984\n",
      "   macro avg       0.96      0.96      0.96       984\n",
      "weighted avg       0.96      0.96      0.96       984\n",
      "]\n"
     ]
    }
   ],
   "source": [
    "try:\n",
    "    config = ConfigurationManager()\n",
    "    model_config = config.get_model_config()\n",
    "    model_trainer = ModelTrainer(config=model_config)\n",
    "    model_trainer.train()\n",
    "except Exception as e:\n",
    "    raise e\n"
   ]
  },
  {
   "cell_type": "code",
   "execution_count": null,
   "metadata": {},
   "outputs": [],
   "source": []
  }
 ],
 "metadata": {
  "kernelspec": {
   "display_name": "Python 3",
   "language": "python",
   "name": "python3"
  },
  "language_info": {
   "codemirror_mode": {
    "name": "ipython",
    "version": 3
   },
   "file_extension": ".py",
   "mimetype": "text/x-python",
   "name": "python",
   "nbconvert_exporter": "python",
   "pygments_lexer": "ipython3",
   "version": "3.9.21"
  }
 },
 "nbformat": 4,
 "nbformat_minor": 2
}
